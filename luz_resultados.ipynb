{
 "cells": [
  {
   "cell_type": "code",
   "execution_count": 2,
   "metadata": {},
   "outputs": [],
   "source": [
    "import pandas as pd\n",
    "import numpy as np\n",
    "import matplotlib.pyplot as plt\n",
    "import scipy.optimize as sc\n",
    "import scipy.stats as ss"
   ]
  },
  {
   "cell_type": "markdown",
   "metadata": {},
   "source": [
    "Inserindo medições"
   ]
  },
  {
   "cell_type": "code",
   "execution_count": 33,
   "metadata": {},
   "outputs": [],
   "source": [
    "distancias = [4, 6, 8, 10, 12, 14, 16, 18, 20, 22, 24, 26, 28, 30]\n",
    "afastamento = [1446, 1190, 910, 602, 444, 310, 227, 185, 160, 128, 111, 92, 83, 71]\n",
    "aproximacao = [1507, 1320, 920, 585, 433, 320, 232, 200, 160, 137, 104, 98, 83, 71]\n"
   ]
  },
  {
   "cell_type": "markdown",
   "metadata": {},
   "source": [
    "Cálculo de média e divisão das medições por 100"
   ]
  },
  {
   "cell_type": "code",
   "execution_count": 34,
   "metadata": {},
   "outputs": [],
   "source": [
    "media = []   #10*3\n",
    "ap = []\n",
    "af = []\n",
    "\n",
    "for c in range( len(distancias) ):\n",
    "    media.append(  round((aproximacao[c] + afastamento[c])/200, 5) )\n",
    "    ap.append(round(aproximacao[c]/100, 5))\n",
    "    af.append(round(afastamento[c]/100, 5))"
   ]
  },
  {
   "cell_type": "markdown",
   "metadata": {},
   "source": [
    "Criando tabela"
   ]
  },
  {
   "cell_type": "code",
   "execution_count": 51,
   "metadata": {},
   "outputs": [],
   "source": [
    "data = {\n",
    "\n",
    "    'Distância relativa fonte-sensor (cm)': distancias,\n",
    "    'Intensidade 1 (lux) Aproximação [10^2]': ap,\n",
    "    'Intensidade 1 (lux) Afastamento [10^2]': af, \n",
    "    'Intensidade média (lux) [10^2]': media\n",
    "\n",
    "}"
   ]
  },
  {
   "cell_type": "code",
   "execution_count": 52,
   "metadata": {},
   "outputs": [],
   "source": [
    "df = pd.DataFrame(data, dtype = 'float64').round(3)\n"
   ]
  },
  {
   "cell_type": "code",
   "execution_count": 53,
   "metadata": {},
   "outputs": [
    {
     "data": {
      "text/html": [
       "<div>\n",
       "<style scoped>\n",
       "    .dataframe tbody tr th:only-of-type {\n",
       "        vertical-align: middle;\n",
       "    }\n",
       "\n",
       "    .dataframe tbody tr th {\n",
       "        vertical-align: top;\n",
       "    }\n",
       "\n",
       "    .dataframe thead th {\n",
       "        text-align: right;\n",
       "    }\n",
       "</style>\n",
       "<table border=\"1\" class=\"dataframe\">\n",
       "  <thead>\n",
       "    <tr style=\"text-align: right;\">\n",
       "      <th></th>\n",
       "      <th>Distância relativa fonte-sensor (cm)</th>\n",
       "      <th>Intensidade 1 (lux) Aproximação [10^2]</th>\n",
       "      <th>Intensidade 1 (lux) Afastamento [10^2]</th>\n",
       "      <th>Intensidade média (lux) [10^2]</th>\n",
       "    </tr>\n",
       "  </thead>\n",
       "  <tbody>\n",
       "    <tr>\n",
       "      <th>0</th>\n",
       "      <td>4.0</td>\n",
       "      <td>15.07</td>\n",
       "      <td>14.46</td>\n",
       "      <td>14.765</td>\n",
       "    </tr>\n",
       "    <tr>\n",
       "      <th>1</th>\n",
       "      <td>6.0</td>\n",
       "      <td>13.20</td>\n",
       "      <td>11.90</td>\n",
       "      <td>12.550</td>\n",
       "    </tr>\n",
       "    <tr>\n",
       "      <th>2</th>\n",
       "      <td>8.0</td>\n",
       "      <td>9.20</td>\n",
       "      <td>9.10</td>\n",
       "      <td>9.150</td>\n",
       "    </tr>\n",
       "    <tr>\n",
       "      <th>3</th>\n",
       "      <td>10.0</td>\n",
       "      <td>5.85</td>\n",
       "      <td>6.02</td>\n",
       "      <td>5.935</td>\n",
       "    </tr>\n",
       "    <tr>\n",
       "      <th>4</th>\n",
       "      <td>12.0</td>\n",
       "      <td>4.33</td>\n",
       "      <td>4.44</td>\n",
       "      <td>4.385</td>\n",
       "    </tr>\n",
       "    <tr>\n",
       "      <th>5</th>\n",
       "      <td>14.0</td>\n",
       "      <td>3.20</td>\n",
       "      <td>3.10</td>\n",
       "      <td>3.150</td>\n",
       "    </tr>\n",
       "    <tr>\n",
       "      <th>6</th>\n",
       "      <td>16.0</td>\n",
       "      <td>2.32</td>\n",
       "      <td>2.27</td>\n",
       "      <td>2.295</td>\n",
       "    </tr>\n",
       "    <tr>\n",
       "      <th>7</th>\n",
       "      <td>18.0</td>\n",
       "      <td>2.00</td>\n",
       "      <td>1.85</td>\n",
       "      <td>1.925</td>\n",
       "    </tr>\n",
       "    <tr>\n",
       "      <th>8</th>\n",
       "      <td>20.0</td>\n",
       "      <td>1.60</td>\n",
       "      <td>1.60</td>\n",
       "      <td>1.600</td>\n",
       "    </tr>\n",
       "    <tr>\n",
       "      <th>9</th>\n",
       "      <td>22.0</td>\n",
       "      <td>1.37</td>\n",
       "      <td>1.28</td>\n",
       "      <td>1.325</td>\n",
       "    </tr>\n",
       "    <tr>\n",
       "      <th>10</th>\n",
       "      <td>24.0</td>\n",
       "      <td>1.04</td>\n",
       "      <td>1.11</td>\n",
       "      <td>1.075</td>\n",
       "    </tr>\n",
       "    <tr>\n",
       "      <th>11</th>\n",
       "      <td>26.0</td>\n",
       "      <td>0.98</td>\n",
       "      <td>0.92</td>\n",
       "      <td>0.950</td>\n",
       "    </tr>\n",
       "    <tr>\n",
       "      <th>12</th>\n",
       "      <td>28.0</td>\n",
       "      <td>0.83</td>\n",
       "      <td>0.83</td>\n",
       "      <td>0.830</td>\n",
       "    </tr>\n",
       "    <tr>\n",
       "      <th>13</th>\n",
       "      <td>30.0</td>\n",
       "      <td>0.71</td>\n",
       "      <td>0.71</td>\n",
       "      <td>0.710</td>\n",
       "    </tr>\n",
       "  </tbody>\n",
       "</table>\n",
       "</div>"
      ],
      "text/plain": [
       "    Distância relativa fonte-sensor (cm)  \\\n",
       "0                                    4.0   \n",
       "1                                    6.0   \n",
       "2                                    8.0   \n",
       "3                                   10.0   \n",
       "4                                   12.0   \n",
       "5                                   14.0   \n",
       "6                                   16.0   \n",
       "7                                   18.0   \n",
       "8                                   20.0   \n",
       "9                                   22.0   \n",
       "10                                  24.0   \n",
       "11                                  26.0   \n",
       "12                                  28.0   \n",
       "13                                  30.0   \n",
       "\n",
       "    Intensidade 1 (lux) Aproximação [10^2]  \\\n",
       "0                                    15.07   \n",
       "1                                    13.20   \n",
       "2                                     9.20   \n",
       "3                                     5.85   \n",
       "4                                     4.33   \n",
       "5                                     3.20   \n",
       "6                                     2.32   \n",
       "7                                     2.00   \n",
       "8                                     1.60   \n",
       "9                                     1.37   \n",
       "10                                    1.04   \n",
       "11                                    0.98   \n",
       "12                                    0.83   \n",
       "13                                    0.71   \n",
       "\n",
       "    Intensidade 1 (lux) Afastamento [10^2]  Intensidade média (lux) [10^2]  \n",
       "0                                    14.46                          14.765  \n",
       "1                                    11.90                          12.550  \n",
       "2                                     9.10                           9.150  \n",
       "3                                     6.02                           5.935  \n",
       "4                                     4.44                           4.385  \n",
       "5                                     3.10                           3.150  \n",
       "6                                     2.27                           2.295  \n",
       "7                                     1.85                           1.925  \n",
       "8                                     1.60                           1.600  \n",
       "9                                     1.28                           1.325  \n",
       "10                                    1.11                           1.075  \n",
       "11                                    0.92                           0.950  \n",
       "12                                    0.83                           0.830  \n",
       "13                                    0.71                           0.710  "
      ]
     },
     "metadata": {},
     "output_type": "display_data"
    }
   ],
   "source": [
    "display(df)"
   ]
  },
  {
   "cell_type": "markdown",
   "metadata": {},
   "source": [
    "Lei do inverso do quadrado da distância"
   ]
  },
  {
   "cell_type": "code",
   "execution_count": 38,
   "metadata": {},
   "outputs": [],
   "source": [
    "def I(r):\n",
    "    return 1/r**2"
   ]
  },
  {
   "cell_type": "markdown",
   "metadata": {},
   "source": [
    "Ajustando o modelo"
   ]
  },
  {
   "cell_type": "code",
   "execution_count": 59,
   "metadata": {},
   "outputs": [],
   "source": [
    "def exponential(x, a, k):\n",
    "    return a*x**k \n",
    "\n",
    "popt_exponential_media, pcov_exponential_media = sc.curve_fit(exponential, distancias, media, p0=[1,-0.5])\n",
    "popt_exponential_af, pcov_exponential_media = sc.curve_fit(exponential, distancias, af, p0=[1,-0.5])\n",
    "popt_exponential_ap, pcov_exponential_media = sc.curve_fit(exponential, distancias, ap, p0=[1,-0.5])"
   ]
  },
  {
   "cell_type": "markdown",
   "metadata": {},
   "source": [
    "Cálculo de R^2"
   ]
  },
  {
   "cell_type": "code",
   "execution_count": 40,
   "metadata": {},
   "outputs": [],
   "source": [
    "slope, intercept, r_value, p_value, std_err = ss.linregress(distancias, media)\n",
    "r_squared = r_value**2"
   ]
  },
  {
   "cell_type": "markdown",
   "metadata": {},
   "source": [
    "Definição dos pontos a, k da equação y = a*x^k"
   ]
  },
  {
   "cell_type": "code",
   "execution_count": 41,
   "metadata": {},
   "outputs": [],
   "source": [
    "a_m, k_m = popt_exponential_media[0], popt_exponential_media[1]\n",
    "a_af, k_af = popt_exponential_af[0], popt_exponential_af[1]\n",
    "a_ap, k_ap = popt_exponential_ap[0], popt_exponential_ap[1]"
   ]
  },
  {
   "cell_type": "markdown",
   "metadata": {},
   "source": [
    "Definindo a variação do eixo x"
   ]
  },
  {
   "cell_type": "code",
   "execution_count": 48,
   "metadata": {},
   "outputs": [],
   "source": [
    "x = np.arange(2, distancias[ (len(distancias)) - 1 ], 0.01)"
   ]
  },
  {
   "cell_type": "markdown",
   "metadata": {},
   "source": [
    "Plotando o gráfico"
   ]
  },
  {
   "cell_type": "code",
   "execution_count": 56,
   "metadata": {},
   "outputs": [
    {
     "data": {
      "image/png": "[encoded data removed]",
      "text/plain": [
       "<Figure size 1296x1080 with 1 Axes>"
      ]
     },
     "metadata": {
      "needs_background": "light"
     },
     "output_type": "display_data"
    }
   ],
   "source": [
    "plt.figure(figsize=((18,15)))\n",
    "\n",
    "plt.plot(distancias, media, 'yo', color = 'red', label='Média das medições')\n",
    "#plt.plot(distancias, af, 'yo', color = 'brown', label='Medições afastamento')\n",
    "#plt.plot(distancias, ap, 'yo', color = 'blue', label='Medições aproximação')\n",
    "\n",
    "plt.plot(x, exponential(x, a_m, k_m), color = 'green', label='Equação Ax^b ajustada')\n",
    "#plt.plot(x, exponential(x, a_ap, k_ap), color = 'blue', label='Ajustada aproximação')\n",
    "#plt.plot(x, exponential(x, a_af, k_af), color = 'gray', label='Ajustada afastamento')\n",
    "plt.plot(x, I(r=x)*10**2, color = 'black', label = 'Eq. 2.8')\n",
    "\n",
    "plt.grid(ls='--')\n",
    "plt.legend()\n",
    "plt.ylabel('Intensidade média [lux] 10^2')\n",
    "plt.xlabel('Distância relativa fonte-sensor [cm]')\n",
    "\n",
    "\n",
    "plt.show()"
   ]
  },
  {
   "cell_type": "code",
   "execution_count": 58,
   "metadata": {},
   "outputs": [
    {
     "name": "stdout",
     "output_type": "stream",
     "text": [
      "A: 88.730\n",
      "b: -1.214\n",
      "R^2: 0.766\n"
     ]
    }
   ],
   "source": [
    "print('A: {:.3f}' .format(a_m))\n",
    "print('b: {:.3f}' .format(k_m))\n",
    "print('R^2: {:.3f}' .format(r_squared))"
   ]
  }
 ],
 "metadata": {
  "interpreter": {
   "hash": "345b6144113f7c80acc8a12c8c192446b7c2a491cb28a453563d65a82f6ad31d"
  },
  "kernelspec": {
   "display_name": "Python 3.8.8 64-bit ('base': conda)",
   "name": "python3"
  },
  "language_info": {
   "codemirror_mode": {
    "name": "ipython",
    "version": 3
   },
   "file_extension": ".py",
   "mimetype": "text/x-python",
   "name": "python",
   "nbconvert_exporter": "python",
   "pygments_lexer": "ipython3",
   "version": "3.8.8"
  },
  "orig_nbformat": 4
 },
 "nbformat": 4,
 "nbformat_minor": 2
}
